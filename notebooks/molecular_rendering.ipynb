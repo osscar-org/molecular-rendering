{
 "cells": [
  {
   "cell_type": "markdown",
   "metadata": {},
   "source": [
    "# **Rendering tool for high quality molecular images and videos by POVARY**\n"
   ]
  },
  {
   "cell_type": "code",
   "execution_count": 111,
   "metadata": {},
   "outputs": [],
   "source": [
    "from ase.build import molecule\n",
    "from widget_periodictable import PTableWidget\n",
    "import nglview as nv\n",
    "from ipywidgets import HBox, VBox, Textarea, Button, Layout, ColorPicker, Checkbox, FileUpload, FloatSlider, Image\n",
    "import numpy as np\n",
    "from vapory import *\n",
    "from numpy.linalg import norm\n",
    "from copy import deepcopy\n",
    "from ase.io import read, write\n",
    "import matplotlib\n",
    "import io\n",
    "import json"
   ]
  },
  {
   "cell_type": "code",
   "execution_count": 112,
   "metadata": {},
   "outputs": [],
   "source": [
    "with open(\"colors_jmol.json\", \"r\") as fs:\n",
    "    colors = json.load(fs)\n",
    "    \n",
    "with open(\"radius.json\", \"r\") as fx:\n",
    "    radius = json.load(fx)\n",
    "    \n",
    "fs.close()\n",
    "fx.close()"
   ]
  },
  {
   "cell_type": "code",
   "execution_count": 113,
   "metadata": {},
   "outputs": [],
   "source": [
    "aa = molecule(\"C60\")\n",
    "aa.set_cell([[15, 0, 0], [0, 15, 0], [0, 0, 15]])\n",
    "aa.center()\n",
    "aa.pbc=True\n",
    "view = nv.show_ase(aa)\n",
    "view.add_unitcell()\n",
    "view.control.zoom(0.2)\n",
    "view.add_ball_and_stick(aspectRatio=4)\n",
    "view.camera='perspective'\n",
    "view.background='white'\n",
    "\n",
    "cp = ColorPicker(\n",
    "    concise=False,\n",
    "    description='Background color',\n",
    "    value='white',\n",
    "    disabled=False\n",
    ")\n",
    "\n",
    "def background_color_change(b):\n",
    "    view.background = cp.value\n",
    "\n",
    "cp.observe(background_color_change, names=\"value\")"
   ]
  },
  {
   "cell_type": "code",
   "execution_count": 114,
   "metadata": {},
   "outputs": [],
   "source": [
    "w = Textarea(\n",
    "    value='C60',\n",
    "    placeholder='Type your molecule',\n",
    "    description='Molecule:',\n",
    "    disabled=False,\n",
    "    layout=Layout(width='28%', height='27px')\n",
    ")\n",
    "\n",
    "def _on_file_upload(change=None):\n",
    "    global aa\n",
    "    \"\"\"When file upload button is pressed.\"\"\"\n",
    "    for fname, item in change['new'].items():\n",
    "        frmt = fname.split('.')[-1]\n",
    "        if frmt == 'xyz':\n",
    "            aa = read(io.StringIO(item['content'].decode()), format='xyz')\n",
    "        break\n",
    "            \n",
    "\n",
    "fupload = FileUpload(\n",
    "    accept='.xyz',  # Accepted file extension e.g. '.txt', '.pdf', 'image/*', 'image/*,.pdf'\n",
    "    multiple=False  # True to accept multiple files upload else False\n",
    ")\n",
    "\n",
    "fupload.observe(_on_file_upload, names='value')\n",
    "\n",
    "bond_factor = FloatSlider(value = 1.2, min = 0.5, max = 2.0, description=\"Factor of Bond\")"
   ]
  },
  {
   "cell_type": "code",
   "execution_count": 115,
   "metadata": {},
   "outputs": [],
   "source": [
    "PTable = PTableWidget(states=2, selected_colors = ['red','green'], selected_elements = {'C':0}, \n",
    "                      border_color='black', unselected_color = 'pink', width='18px')"
   ]
  },
  {
   "cell_type": "code",
   "execution_count": 116,
   "metadata": {},
   "outputs": [],
   "source": [
    "def on_button_click(b):\n",
    "    global view, aa\n",
    "    aa = molecule(w.value)\n",
    "    aa.set_cell([[15, 0, 0], [0, 15, 0], [0, 0, 15]])\n",
    "    aa.center()\n",
    "    aa.pbc=True\n",
    "    for comp_id in view._ngl_component_ids:\n",
    "        view.remove_component(comp_id)\n",
    "    view.add_component(nv.ASEStructure(aa))\n",
    "    view.clear()\n",
    "    view.add_ball_and_stick(aspectRatio=4)\n",
    "    view.add_unitcell()\n",
    "    bcell.value = True\n",
    "    view.control.zoom(0.2)\n",
    "    PTable.selected_elements = {key: 0 for key in list(dict.fromkeys(aa.get_chemical_symbols()))}\n",
    "\n",
    "def on_fileupload_click(b):\n",
    "    global aa, view\n",
    "    aa.set_cell([[15, 0, 0], [0, 15, 0], [0, 0, 15]])\n",
    "    aa.center()\n",
    "    aa.pbc=True\n",
    "    for comp_id in view._ngl_component_ids:\n",
    "        view.remove_component(comp_id)\n",
    "    view.add_component(nv.ASEStructure(aa))\n",
    "    view.clear()\n",
    "    view.add_ball_and_stick(aspectRatio=4)\n",
    "    view.add_unitcell()\n",
    "    bcell.value = True\n",
    "    view.control.zoom(0.2)\n",
    "    PTable.selected_elements = {key: 0 for key in list(dict.fromkeys(aa.get_chemical_symbols()))}\n",
    "\n",
    "def povray_render(b):\n",
    "    br.disabled = True\n",
    "    A = view._camera_orientation\n",
    "    A = np.array(A)\n",
    "    A=A.reshape(4,4)\n",
    "    A=np.transpose(A)\n",
    "\n",
    "    zfactor = norm(A[0, 0:3])\n",
    "    A[0:3, 0:3] = A[0:3, 0:3]/zfactor\n",
    "    \n",
    "    bb = deepcopy(aa);\n",
    "\n",
    "    for i in bb:\n",
    "        a = np.array([i.x, i.y, i.z])\n",
    "        a = a + A[0:3, 3];\n",
    "        w = A[0:3, 0:3].dot(a)\n",
    "        i.x = -w[0]\n",
    "        i.y = w[1]\n",
    "        i.z = w[2]\n",
    "        \n",
    "    vertices = [];\n",
    "    \n",
    "    vx = np.array(bb.get_cell()[0]);\n",
    "    vy = np.array(bb.get_cell()[1]);\n",
    "    vz = np.array(bb.get_cell()[2]);\n",
    "\n",
    "    vertices.append(np.array([0, 0, 0]));\n",
    "    vertices.append(vx);\n",
    "    vertices.append(vy);\n",
    "    vertices.append(vz);\n",
    "    \n",
    "    vertices.append(vx+vy);\n",
    "    vertices.append(vx+vz);\n",
    "    vertices.append(vy+vz);\n",
    "    vertices.append(vx+vy+vz);\n",
    "\n",
    "\n",
    "    for n, i in enumerate(vertices):\n",
    "        a = i + A[0:3, 3];\n",
    "        w = A[0:3, 0:3].dot(a)\n",
    "        vertices[n] = np.array([-w[0], w[1], w[2]])\n",
    "    \n",
    "\n",
    "    camera = Camera('location', [0, 0, -zfactor/1.5], 'look_at', [0.0, 0.0, 0.0])\n",
    "\n",
    "    light1 = LightSource([0, 0, -100.0], 'color',  [1.5, 1.5, 1.5])\n",
    "    light2 = LightSource([-100.0, -100.0, -60], 'color',  [1.5, 1.5, 1.5])\n",
    "    light3 = LightSource([0, -60.0, 0], 'color',  [1, 1, 1])\n",
    "\n",
    "    #light = LightSource(-A[2][0:3], [1.3, 1.3, 1.3])\n",
    "    wall = Plane([0, 0, 100], 20, Texture(Pigment('color', [1, 1, 1])))\n",
    "\n",
    "    spheres = [];\n",
    "\n",
    "    for i in bb:\n",
    "        sphere = Sphere( [i.x, i.y, i.z], radius[i.symbol], \n",
    "                        Texture(Pigment( 'color', np.array(colors[i.symbol])/255)), \n",
    "                            Finish('phong', 0.9,'reflection', 0.05))\n",
    "        spheres.append(sphere)\n",
    "\n",
    "\n",
    "    bonds = [];\n",
    "    for x, i in enumerate(bb):\n",
    "        for j in bb[x+1:]:\n",
    "            v1 = np.array([i.x, i.y, i.z])\n",
    "            v2 = np.array([j.x, j.y, j.z])\n",
    "\n",
    "            if i.symbol == 'H' and j.symbol == 'H':\n",
    "                continue;\n",
    "                \n",
    "            if norm(v1-v2) < bond_factor.value*(radius[i.symbol] + radius[j.symbol]):\n",
    "                bond = Cylinder(v1, v2, 0.2, Pigment('color', (np.array(colors[i.symbol])+np.array(colors[j.symbol]))/510),\n",
    "                                Finish('phong', 0.8,'reflection', 0.05))\n",
    "                bonds.append(bond)\n",
    "                \n",
    "    edges = [];\n",
    "    for x, i in enumerate(vertices):\n",
    "        for y, j in enumerate(vertices):\n",
    "            if y > x:\n",
    "                if norm(np.cross(i-j, vertices[1]-vertices[0])) < 0.001 or norm(np.cross(i-j, vertices[2]-vertices[0])) < 0.001 or norm(np.cross(i-j, vertices[3]-vertices[0])) < 0.001:\n",
    "                    edge = Cylinder(i, j, 0.06, Texture(Pigment( 'color', [212/255.0,175/255.0,55/255.0])), \n",
    "                                    Finish('phong', 0.9,'reflection', 0.01))\n",
    "                    edges.append(edge)\n",
    "\n",
    "    objects = [light1] + spheres + bonds + [Background( \"color\", np.array(matplotlib.colors.to_rgb(view.background)))]\n",
    "    \n",
    "    if bcell.value:\n",
    "        objects += edges\n",
    "        \n",
    "    scene = Scene( camera, objects= objects)\n",
    "    #scene = Scene( camera, objects= [light1, wall] + spheres + bonds, included=[\"textures.inc\"] )\n",
    "    scene.render(\"nglview.png\", width=3840, height=2160, antialiasing=0.000, quality=11, remove_temp=False)\n",
    "    br.disabled = False\n",
    "\n",
    "b = Button(description = 'Update')\n",
    "br = Button(description = 'Render')\n",
    "bu = Button(description = 'Upload File')\n",
    "\n",
    "bcell = Checkbox(\n",
    "    value=True,\n",
    "    description='Show cellbox',\n",
    "    disabled=False,\n",
    "    indent=False\n",
    ")\n",
    "\n",
    "b.on_click(on_button_click)\n",
    "bu.on_click(on_fileupload_click)\n",
    "br.on_click(povray_render)\n",
    "\n",
    "\n",
    "\n",
    "def checkbox_change(b):\n",
    "    global view\n",
    "    if bcell.value:\n",
    "        view.add_unitcell()\n",
    "    else:\n",
    "        view.remove_unitcell()\n",
    "\n",
    "bcell.observe(checkbox_change, names='value')"
   ]
  },
  {
   "cell_type": "code",
   "execution_count": 117,
   "metadata": {},
   "outputs": [
    {
     "data": {
      "application/vnd.jupyter.widget-view+json": {
       "model_id": "e7769d69cc674cac8f0ce1e2ab97b785",
       "version_major": 2,
       "version_minor": 0
      },
      "text/plain": [
       "HBox(children=(Textarea(value='C60', description='Molecule:', layout=Layout(height='27px', width='28%'), place…"
      ]
     },
     "metadata": {},
     "output_type": "display_data"
    },
    {
     "data": {
      "application/vnd.jupyter.widget-view+json": {
       "model_id": "dc32d99c28d048ff82e62b56b5fb8ed3",
       "version_major": 2,
       "version_minor": 0
      },
      "text/plain": [
       "HBox(children=(FileUpload(value={}, accept='.xyz', description='Upload'), Button(description='Upload File', st…"
      ]
     },
     "metadata": {},
     "output_type": "display_data"
    },
    {
     "data": {
      "application/vnd.jupyter.widget-view+json": {
       "model_id": "b76cf2190df74399b042b012c83ed807",
       "version_major": 2,
       "version_minor": 0
      },
      "text/plain": [
       "VBox(children=(ColorPicker(value='white', description='Background color'), Checkbox(value=True, description='S…"
      ]
     },
     "metadata": {},
     "output_type": "display_data"
    },
    {
     "data": {
      "application/vnd.jupyter.widget-view+json": {
       "model_id": "15e4d5cd438d42eea16fff1f67b17b5c",
       "version_major": 2,
       "version_minor": 0
      },
      "text/plain": [
       "FloatSlider(value=1.2, description='Factor of Bond', max=2.0, min=0.5)"
      ]
     },
     "metadata": {},
     "output_type": "display_data"
    },
    {
     "data": {
      "application/vnd.jupyter.widget-view+json": {
       "model_id": "2bb429c6f57e437797d22ca10b0e3828",
       "version_major": 2,
       "version_minor": 0
      },
      "text/plain": [
       "Button(description='Render', style=ButtonStyle())"
      ]
     },
     "metadata": {},
     "output_type": "display_data"
    },
    {
     "data": {
      "application/vnd.jupyter.widget-view+json": {
       "model_id": "bcddab3e75e44e22a59f5ad59d28fac2",
       "version_major": 2,
       "version_minor": 0
      },
      "text/plain": [
       "VBox(children=(NGLWidget(), PTableWidget(allElements=['H', 'He', 'Li', 'Be', 'B', 'C', 'N', 'O', 'F', 'Ne', 'N…"
      ]
     },
     "metadata": {},
     "output_type": "display_data"
    }
   ],
   "source": [
    "display(HBox([w, b]), HBox([fupload, bu]), VBox([cp, bcell]), bond_factor, br, VBox([view, PTable]))"
   ]
  },
  {
   "cell_type": "code",
   "execution_count": null,
   "metadata": {},
   "outputs": [],
   "source": []
  }
 ],
 "metadata": {
  "kernelspec": {
   "display_name": "Python 3",
   "language": "python",
   "name": "python3"
  },
  "language_info": {
   "codemirror_mode": {
    "name": "ipython",
    "version": 3
   },
   "file_extension": ".py",
   "mimetype": "text/x-python",
   "name": "python",
   "nbconvert_exporter": "python",
   "pygments_lexer": "ipython3",
   "version": "3.7.7"
  }
 },
 "nbformat": 4,
 "nbformat_minor": 4
}
