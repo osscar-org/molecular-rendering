{
 "cells": [
  {
   "cell_type": "markdown",
   "metadata": {},
   "source": [
    "# **Molecular Rendering**\n",
    "\n",
    "<hr style=\"height:1px;border:none;color:#cccccc;background-color:#cccccc;\" />\n",
    "\n",
    "<ol style=\"font-size:18px\">\n",
    "    <li><a href=\"./molecular_rendering.ipynb\">Render static molecular structures into high quality images</a></li>\n",
    "    <li><a href=\"./trajectory_rendering.ipynb\">Render dynamic molecular trajectory files into high quality movies</a></li>\n",
    "    <li><a href=\"./isosurface_rendering.ipynb\">Render electron density isosurface with electrostatic colormapping images from VASP calculations</a></li>\n",
    "</ol>"
   ]
  },
  {
   "cell_type": "code",
   "execution_count": null,
   "metadata": {},
   "outputs": [],
   "source": []
  }
 ],
 "metadata": {
  "kernelspec": {
   "display_name": "Python 3",
   "language": "python",
   "name": "python3"
  },
  "language_info": {
   "codemirror_mode": {
    "name": "ipython",
    "version": 3
   },
   "file_extension": ".py",
   "mimetype": "text/x-python",
   "name": "python",
   "nbconvert_exporter": "python",
   "pygments_lexer": "ipython3",
   "version": "3.7.9"
  }
 },
 "nbformat": 4,
 "nbformat_minor": 4
}
